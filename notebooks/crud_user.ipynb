{
 "cells": [
  {
   "cell_type": "code",
   "execution_count": 35,
   "metadata": {},
   "outputs": [],
   "source": [
    "import sys\n",
    "import os\n",
    "import requests\n",
    "\n",
    "project_path = os.path.abspath(os.path.join(os.getcwd(), \"..\"))  \n",
    "sys.path.append(project_path)\n",
    "\n",
    "from utils.crud_api import UserAPI\n"
   ]
  },
  {
   "cell_type": "code",
   "execution_count": 36,
   "metadata": {},
   "outputs": [],
   "source": [
    "api = UserAPI(\"http://127.0.0.1:5000/users\")"
   ]
  },
  {
   "cell_type": "code",
   "execution_count": 38,
   "metadata": {},
   "outputs": [
    {
     "name": "stdout",
     "output_type": "stream",
     "text": [
      "Usuário criado com sucesso: {'email': 'cristianoronaldo@exemplo.com', 'id': 2, 'name': 'Cristiano Ronaldo'}\n"
     ]
    }
   ],
   "source": [
    "api.create_user(\"Cristiano Ronaldo\", \"cristianoronaldo@exemplo.com\")"
   ]
  },
  {
   "cell_type": "code",
   "execution_count": 39,
   "metadata": {},
   "outputs": [
    {
     "name": "stdout",
     "output_type": "stream",
     "text": [
      "Usuário encontrado: ID: 1, Name: Dhaniel Cruz, Email: dhanielcruz@exemplo.com\n"
     ]
    }
   ],
   "source": [
    "# Obter um usuário específico pelo ID (exemplo ID 1)\n",
    "api.get_user_by_id(1)"
   ]
  },
  {
   "cell_type": "code",
   "execution_count": 44,
   "metadata": {},
   "outputs": [
    {
     "name": "stdout",
     "output_type": "stream",
     "text": [
      "Usuários:\n",
      "ID: 1, Name: Dhaniel Barros, Email: dhanielbarros@exemplo.com\n"
     ]
    }
   ],
   "source": [
    "api.get_all_users()"
   ]
  },
  {
   "cell_type": "code",
   "execution_count": 41,
   "metadata": {},
   "outputs": [
    {
     "name": "stdout",
     "output_type": "stream",
     "text": [
      "Usuário encontrado: ID: 1, Name: Dhaniel Cruz, Email: dhanielcruz@exemplo.com\n"
     ]
    }
   ],
   "source": [
    "# Obter um usuário específico pelo ID (exemplo ID 1)\n",
    "api.get_user_by_id(1)"
   ]
  },
  {
   "cell_type": "code",
   "execution_count": 42,
   "metadata": {},
   "outputs": [
    {
     "name": "stdout",
     "output_type": "stream",
     "text": [
      "Usuário atualizado: ID: 1, Name: Dhaniel Barros, Email: dhanielbarros@exemplo.com\n"
     ]
    }
   ],
   "source": [
    "# Atualizar um usuário (exemplo ID 1)\n",
    "api.update_user(1, name=\"Dhaniel Barros\", email=\"dhanielbarros@exemplo.com\")"
   ]
  },
  {
   "cell_type": "code",
   "execution_count": 43,
   "metadata": {},
   "outputs": [
    {
     "name": "stdout",
     "output_type": "stream",
     "text": [
      "Usuário ID 2 deletado com sucesso.\n"
     ]
    }
   ],
   "source": [
    "# Excluir um usuário pelo ID (exemplo ID 2)\n",
    "api.delete_user(2)"
   ]
  }
 ],
 "metadata": {
  "kernelspec": {
   "display_name": ".venv",
   "language": "python",
   "name": "python3"
  },
  "language_info": {
   "codemirror_mode": {
    "name": "ipython",
    "version": 3
   },
   "file_extension": ".py",
   "mimetype": "text/x-python",
   "name": "python",
   "nbconvert_exporter": "python",
   "pygments_lexer": "ipython3",
   "version": "3.11.9"
  }
 },
 "nbformat": 4,
 "nbformat_minor": 2
}
